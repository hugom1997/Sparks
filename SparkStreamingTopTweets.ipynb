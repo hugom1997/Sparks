{
 "cells": [
  {
   "cell_type": "markdown",
   "metadata": {},
   "source": [
    "# Data Analytics with Spark : Exercise 2"
   ]
  },
  {
   "cell_type": "markdown",
   "metadata": {},
   "source": [
    "This work was produced by:\n",
    "- MALLET Hugo\n",
    "- GAJENDRAN Mithuran\n",
    "- MADALI Nabil"
   ]
  },
  {
   "cell_type": "markdown",
   "metadata": {},
   "source": [
    "## Build a Spark Streaming application that shows popular hashtags on Twitter. (Part 2)\n",
    "Then you can write a Spark Streaming application that connects to the first part, extracts\n",
    "hashtags, and displays the 10 most popular among them in the last 10 minutes."
   ]
  },
  {
   "cell_type": "code",
   "execution_count": 1,
   "metadata": {},
   "outputs": [],
   "source": [
    "import findspark\n",
    "findspark.init('')\n",
    "from pyspark import SparkContext\n",
    "from pyspark.streaming import StreamingContext\n",
    "from pyspark.sql import SQLContext\n",
    "from pyspark.sql.functions import desc"
   ]
  },
  {
   "cell_type": "code",
   "execution_count": 2,
   "metadata": {},
   "outputs": [],
   "source": [
    "#Importing our spark context\n",
    "sc = SparkContext.getOrCreate()\n",
    "# we initiate the SQL StreamingContext with 10 second batch interval.\n",
    "sql_stream_context = StreamingContext(sc, 10)\n",
    "sqlContext = SQLContext(sc)"
   ]
  },
  {
   "cell_type": "code",
   "execution_count": 3,
   "metadata": {},
   "outputs": [],
   "source": [
    "# initiate streaming text from a TCP (socket) source:\n",
    "socket = sql_stream_context.socketTextStream(\"127.0.0.1\", 5555)\n",
    "# socket window of size 10 minutes : 60*10\n",
    "tweetLines = socket.window(60*10)"
   ]
  },
  {
   "cell_type": "markdown",
   "metadata": {},
   "source": [
    "# Processing tweets and saving them into a Table"
   ]
  },
  {
   "cell_type": "markdown",
   "metadata": {},
   "source": [
    "In this part we will create an objet Tweet that will contain two fields : \"Hashtag\" and \"Count\". \n",
    "- Process tweets that we got from our the socket :\n",
    "    - Split on space\n",
    "    - Isolate the word starting by the \"#\"\n",
    "    - Lower the hashtag that we got\n",
    "    - Paring it as (key,value)    \n",
    "- Store the counts corresponding to those hashtags into the Tweets table.\n",
    "- Sort the table on count in descending mode so we can have the top ten easily\n",
    "- Get the top_ten hashtags and register it using RegisterTempTable in a table named \"top_tweets\""
   ]
  },
  {
   "cell_type": "code",
   "execution_count": 4,
   "metadata": {},
   "outputs": [],
   "source": [
    "from collections import namedtuple\n",
    "#Our fields : \n",
    "fields = (\"hashtag\", \"count\" )\n",
    "# Tweet object allows us to save hastags with the count\n",
    "Tweet = namedtuple( 'Tweet', fields )\n",
    "# Operation on our tweets so we can store them\n",
    "\n",
    "(tweetLines.flatMap( lambda line: line.split( \" \" ) ) #We split on space\n",
    "# Looking for hashtags \n",
    ".filter( lambda word: word.lower().startswith(\"#\") ) \n",
    ".map( lambda word: ( word.lower(), 1 ) )#Set to lower case\n",
    ".reduceByKey( lambda a, b: a + b ) # As in Lab1 so we can count them\n",
    " #Storing it in our Tweet Object\n",
    ".map( lambda tw: Tweet( tw[0], tw[1] ) )\n",
    "# Sorting them in a Data Frame\n",
    ".foreachRDD( lambda rdd: rdd.toDF().sort( desc(\"count\") )\n",
    "# We only take into consideration the top 10 hashtags\n",
    ".limit(10).registerTempTable(\"top_tweets\") ))"
   ]
  },
  {
   "cell_type": "code",
   "execution_count": 5,
   "metadata": {},
   "outputs": [],
   "source": [
    "sql_stream_context.start()"
   ]
  },
  {
   "cell_type": "markdown",
   "metadata": {},
   "source": [
    "# Vizualisation : displays the 10 most popular among them in the last 10 minutes.\n",
    "Finally we : \n",
    "- Requesting hashtags and count from our top_tweets table\n",
    "- Setting it to Panda dataFrame so we can use Pandas' functionnalities\n",
    "- Use Seaborn to vizualise it\n",
    "\n",
    "Note : In our case, we chose to display tweets containing \"Trump\" in it as Tweepy doesn't provide a way to get all Tweets without any filter"
   ]
  },
  {
   "cell_type": "code",
   "execution_count": null,
   "metadata": {
    "scrolled": true
   },
   "outputs": [],
   "source": [
    "import time\n",
    "from IPython import display\n",
    "import matplotlib.pyplot as plt\n",
    "import seaborn as sns\n",
    "import pandas\n",
    "%matplotlib inline\n",
    "count = 0\n",
    "while count < 50:\n",
    "    time.sleep(5)\n",
    "    top_hastags = sqlContext.sql( 'Select hashtag, count from top_tweets' ) #We request the hastags and counts from our table top_tweets\n",
    "    top_10_hastags_dataframe = top_hastags.toPandas()\n",
    "    display.clear_output(wait=True)\n",
    "    #Plotting our figure\n",
    "    plt.figure( figsize = ( 10, 8 ) )\n",
    "    sns.barplot( x=\"count\", y=\"hashtag\", data=top_10_hastags_dataframe)\n",
    "    plt.show()\n",
    "    count = count + 1\n",
    "print(\"done\")"
   ]
  },
  {
   "cell_type": "code",
   "execution_count": null,
   "metadata": {},
   "outputs": [],
   "source": [
    "sql_stream_context.stop()"
   ]
  },
  {
   "cell_type": "markdown",
   "metadata": {},
   "source": [
    "According to our results when we launched our application, when the word \"Trump\" occurs in a tweet, the most popular hastaghs linked to it are :\n",
    "   - #trump\n",
    "   - #kag\n",
    "   - #impotus\n",
    "   - #....rt\n",
    "   - #proofofcitizenship\n",
    "   - #executiveorder\n",
    "   - #voterfraud\n",
    "   - #qarmy\n",
    "   - #tcot\n",
    "   - #merrychristmas"
   ]
  }
 ],
 "metadata": {
  "kernelspec": {
   "display_name": "Python 3",
   "language": "python",
   "name": "python3"
  },
  "language_info": {
   "codemirror_mode": {
    "name": "ipython",
    "version": 3
   },
   "file_extension": ".py",
   "mimetype": "text/x-python",
   "name": "python",
   "nbconvert_exporter": "python",
   "pygments_lexer": "ipython3",
   "version": "3.7.0"
  }
 },
 "nbformat": 4,
 "nbformat_minor": 2
}
